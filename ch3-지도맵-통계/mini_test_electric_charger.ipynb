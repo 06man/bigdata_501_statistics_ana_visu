{
 "cells": [
  {
   "cell_type": "code",
   "execution_count": null,
   "id": "initial_id",
   "metadata": {
    "collapsed": true
   },
   "outputs": [],
   "source": [
    "import pandas as pd\n",
    "\n",
    "# CSV 파일 로드\n",
    "df = pd.read_csv(\"converted_addresses_일부.csv\", encoding=\"utf-8-sig\")\n",
    "\n",
    "# 중복 제거 전 데이터 개수\n",
    "original_count = len(df)\n",
    "\n",
    "# \"주소\" 컬럼에서 중복 제거\n",
    "df_unique = df.drop_duplicates(subset=[\"주소\"], keep=\"first\").reset_index(drop=True)\n",
    "\n",
    "# 중복 제거 후 데이터 개수\n",
    "unique_count = len(df_unique)\n",
    "\n",
    "# 새로운 CSV 파일로 저장\n",
    "output_csv = \"converted_addresses_중복제거.csv\"\n",
    "df_unique.to_csv(output_csv, index=False, encoding=\"utf-8-sig\")\n",
    "\n",
    "# 결과 출력\n",
    "print(\"🎉 중복 제거 완료!\")\n",
    "print(f\"📌 원본 데이터 개수: {original_count}\")\n",
    "print(f\"✅ 중복 제거 후 데이터 개수: {unique_count}\")\n",
    "print(f\"📄 '{output_csv}' 파일이 저장되었습니다.\")\n"
   ]
  }
 ],
 "metadata": {
  "kernelspec": {
   "display_name": "Python 3",
   "language": "python",
   "name": "python3"
  },
  "language_info": {
   "codemirror_mode": {
    "name": "ipython",
    "version": 2
   },
   "file_extension": ".py",
   "mimetype": "text/x-python",
   "name": "python",
   "nbconvert_exporter": "python",
   "pygments_lexer": "ipython2",
   "version": "2.7.6"
  }
 },
 "nbformat": 4,
 "nbformat_minor": 5
}
